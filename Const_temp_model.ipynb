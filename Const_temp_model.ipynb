{
 "cells": [
  {
   "cell_type": "markdown",
   "metadata": {},
   "source": [
    "# Constant Temperature Model Fit:\n",
    "\n",
    "Source: https://www.sciencedirect.com/science/article/abs/pii/S0092640X17300591?via%3Dihub"
   ]
  },
  {
   "cell_type": "markdown",
   "metadata": {},
   "source": [
    "The constant temperature model is a phenomenological model that helps us calculate the nuclear level densities (NLD) for a given temperature parameter and excitation energy (E). The excitation energy is adjusted by another constant of energy shift $(E_0)$. Under the paradigm of this model, the NLDs are characterized by:\n",
    "\n",
    "$\\rho (E) = \\frac{1}{T}*e^{(E-E_0)/T}$\n",
    "\n",
    "It is stated in the paper that this model only works for excitation energies between 0 and 10 MeV.\n",
    "\n",
    "The goals of this project are manifold:\n",
    "\n",
    "1. To produce a best-fit model from the given NLD experimental data (see Source).\n",
    "\n",
    "2. To compare the best fits generated from my notebook to the best fits given in the paper.\n",
    "\n",
    "3. To compare the best fits (from my notebook and the paper) to the real data from the experiments (also given in the paper).\n",
    "\n",
    "4. Calculate the temperature parameter from the TALYS manual and compare it to the parameters obtained by the fit in the notebook and the fit provided in the Karampagia et. al paper."
   ]
  },
  {
   "cell_type": "code",
   "execution_count": 9,
   "metadata": {},
   "outputs": [],
   "source": [
    "# Importing libraries\n",
    "\n",
    "import numpy as np\n",
    "import matplotlib.pyplot as plt\n",
    "import pandas as pd\n",
    "from scipy.optimize import curve_fit\n",
    "from scipy.stats import chisquare \n",
    "%matplotlib inline"
   ]
  },
  {
   "cell_type": "code",
   "execution_count": 10,
   "metadata": {},
   "outputs": [],
   "source": [
    "def const_temp(E,T,E_0):\n",
    "    ''' Function to calculate the NLD using the constant temperature model.\n",
    "    INPUTS: Excitation Energy (E), the temperature parameter (T), the back-shifted energy (E_0)\n",
    "    RETURNS: the NLD using the constant temperature model.'''\n",
    "    \n",
    "    return (1./T)*np.exp((E-E_0)/T)"
   ]
  },
  {
   "cell_type": "code",
   "execution_count": 11,
   "metadata": {},
   "outputs": [],
   "source": [
    "# this fitting only works for excitation energies between 0-10.\n",
    "E = np.arange(0.5,10.0,1.0)"
   ]
  },
  {
   "cell_type": "markdown",
   "metadata": {},
   "source": [
    "## Fitting for Fluorine-19\n",
    "\n",
    "Importing relevant data (from sheet and paper)"
   ]
  },
  {
   "cell_type": "code",
   "execution_count": 12,
   "metadata": {},
   "outputs": [],
   "source": [
    "#extracting data for F-19\n",
    "Flourine_19_data = pd.read_excel('NLD.xlsx',sheet_name='F-19')\n",
    "\n",
    "NLD_F19 = Flourine_19_data['NLD']"
   ]
  },
  {
   "cell_type": "code",
   "execution_count": 13,
   "metadata": {},
   "outputs": [],
   "source": [
    "# The temperature parameter and the E_0 value stated in Karampagia et. al (2017).\n",
    "\n",
    "TempF19_sd_paper = 3.97 # in MeV\n",
    "E0F19_sd_paper = -3.42 # in MeV"
   ]
  },
  {
   "cell_type": "markdown",
   "metadata": {},
   "source": [
    "## Initial data plot"
   ]
  },
  {
   "cell_type": "markdown",
   "metadata": {},
   "source": [
    "It is good practice to see what the data plot looks like before we go on to fit the data with our model."
   ]
  },
  {
   "cell_type": "code",
   "execution_count": 14,
   "metadata": {},
   "outputs": [
    {
     "data": {
      "image/png": "[encoded data removed]",
      "text/plain": [
       "<Figure size 432x288 with 1 Axes>"
      ]
     },
     "metadata": {
      "needs_background": "light"
     },
     "output_type": "display_data"
    }
   ],
   "source": [
    "plt.scatter(E,NLD_F19,color = 'red',label = 'Shell model calculations')\n",
    "plt.show()"
   ]
  },
  {
   "cell_type": "markdown",
   "metadata": {},
   "source": [
    "## Fitting the curve:\n",
    "\n",
    "NOTE: p0 is the initial guess for the parameters. Here I use the values reported in Karampagia et. al."
   ]
  },
  {
   "cell_type": "code",
   "execution_count": 15,
   "metadata": {},
   "outputs": [
    {
     "name": "stdout",
     "output_type": "stream",
     "text": [
      "4.0 -3.54\n"
     ]
    }
   ],
   "source": [
    "popt_F19, pcov_F19 = curve_fit(const_temp,E,NLD_F19,p0=[3.97,-3.42],bounds=[[0,-4],[4,0]]) #curve fitting\n",
    "print(round(popt_F19[0],3),round(popt_F19[1],3)) # popt = optimal parameters; popt[0] = T and popt[1] = E_0\n",
    "\n"
   ]
  },
  {
   "cell_type": "markdown",
   "metadata": {},
   "source": [
    "## Plot"
   ]
  },
  {
   "cell_type": "code",
   "execution_count": 16,
   "metadata": {},
   "outputs": [
    {
     "data": {
      "image/png": "[encoded data removed]",
      "text/plain": [
       "<Figure size 432x288 with 1 Axes>"
      ]
     },
     "metadata": {
      "needs_background": "light"
     },
     "output_type": "display_data"
    }
   ],
   "source": [
    "plt.scatter(E,NLD_F19,color = 'red',label = 'Shell model calculations')\n",
    "plt.plot(E,const_temp(E,*popt_F19),'b',label = 'Fitted curve (T = 4.708 MeV and $E_0 = -6.344$ MeV)')\n",
    "plt.plot(E,const_temp(E,TempF19_sd_paper,E0F19_sd_paper),'g',label= 'Fitted curve (Karampagia et. al)')\n",
    "plt.xlabel('E (MeV)')\n",
    "plt.ylabel(r'$\\rho$ (MeV$^{-1}$)')\n",
    "plt.legend(loc = 'best')\n",
    "plt.show()"
   ]
  },
  {
   "cell_type": "code",
   "execution_count": 17,
   "metadata": {},
   "outputs": [],
   "source": [
    "Rathi_fit_F19 = const_temp(E,*popt_F19)\n",
    "Karampagia_fit_F19 = const_temp(E,TempF19_sd_paper,E0F19_sd_paper)"
   ]
  },
  {
   "cell_type": "code",
   "execution_count": 18,
   "metadata": {},
   "outputs": [
    {
     "data": {
      "text/html": [
       "<div>\n",
       "<style scoped>\n",
       "    .dataframe tbody tr th:only-of-type {\n",
       "        vertical-align: middle;\n",
       "    }\n",
       "\n",
       "    .dataframe tbody tr th {\n",
       "        vertical-align: top;\n",
       "    }\n",
       "\n",
       "    .dataframe thead th {\n",
       "        text-align: right;\n",
       "    }\n",
       "</style>\n",
       "<table border=\"1\" class=\"dataframe\">\n",
       "  <thead>\n",
       "    <tr style=\"text-align: right;\">\n",
       "      <th></th>\n",
       "      <th>0</th>\n",
       "    </tr>\n",
       "  </thead>\n",
       "  <tbody>\n",
       "    <tr>\n",
       "      <th>count</th>\n",
       "      <td>10.000000</td>\n",
       "    </tr>\n",
       "    <tr>\n",
       "      <th>mean</th>\n",
       "      <td>2.702241</td>\n",
       "    </tr>\n",
       "    <tr>\n",
       "      <th>std</th>\n",
       "      <td>1.944313</td>\n",
       "    </tr>\n",
       "    <tr>\n",
       "      <th>min</th>\n",
       "      <td>0.686345</td>\n",
       "    </tr>\n",
       "    <tr>\n",
       "      <th>25%</th>\n",
       "      <td>1.211942</td>\n",
       "    </tr>\n",
       "    <tr>\n",
       "      <th>50%</th>\n",
       "      <td>2.130630</td>\n",
       "    </tr>\n",
       "    <tr>\n",
       "      <th>75%</th>\n",
       "      <td>3.731230</td>\n",
       "    </tr>\n",
       "    <tr>\n",
       "      <th>max</th>\n",
       "      <td>6.511862</td>\n",
       "    </tr>\n",
       "  </tbody>\n",
       "</table>\n",
       "</div>"
      ],
      "text/plain": [
       "               0\n",
       "count  10.000000\n",
       "mean    2.702241\n",
       "std     1.944313\n",
       "min     0.686345\n",
       "25%     1.211942\n",
       "50%     2.130630\n",
       "75%     3.731230\n",
       "max     6.511862"
      ]
     },
     "execution_count": 18,
     "metadata": {},
     "output_type": "execute_result"
    }
   ],
   "source": [
    "Rathi_fit_F19_dataframe = pd.DataFrame(Rathi_fit_F19)\n",
    "Rathi_fit_F19_dataframe.describe()"
   ]
  },
  {
   "cell_type": "markdown",
   "metadata": {},
   "source": [
    "## Testing the goodness of the fits\n",
    "\n",
    "The (reduced) chi-square analysis is a very good way to test the \"goodness\" of the fits to the experimental data. \n",
    "I will be testing the goodness of my fit (and consequently, the parameters) to the data and also to the fits presented in the paper.\n"
   ]
  },
  {
   "cell_type": "code",
   "execution_count": 19,
   "metadata": {},
   "outputs": [],
   "source": [
    "def red_chi_square(data_obs, data_exp, dof=1):\n",
    "    \n",
    "    data_sum = 0\n",
    "    \n",
    "    for i in range(0,len(data_obs)):\n",
    "        diff_square = (data_obs[i] - data_exp[i])**2/data_exp[i]\n",
    "        data_sum += diff_square\n",
    "        #print(round(data_obs[i],3),round(data_exp[i],3),data_sum)\n",
    "    \n",
    "    return data_sum/float(dof)\n",
    "    "
   ]
  },
  {
   "cell_type": "code",
   "execution_count": 20,
   "metadata": {},
   "outputs": [
    {
     "data": {
      "text/plain": [
       "0.0976416645386128"
      ]
     },
     "execution_count": 20,
     "metadata": {},
     "output_type": "execute_result"
    }
   ],
   "source": [
    "red_chi_square(Rathi_fit_F19, NLD_F19, 8)\n"
   ]
  },
  {
   "cell_type": "code",
   "execution_count": 21,
   "metadata": {},
   "outputs": [
    {
     "data": {
      "text/plain": [
       "0.0974912791531055"
      ]
     },
     "execution_count": 21,
     "metadata": {},
     "output_type": "execute_result"
    }
   ],
   "source": [
    "red_chi_square(Karampagia_fit_F19, NLD_F19, 8)"
   ]
  },
  {
   "cell_type": "markdown",
   "metadata": {},
   "source": [
    "## Fitting for Fluorine-20"
   ]
  },
  {
   "cell_type": "code",
   "execution_count": 22,
   "metadata": {},
   "outputs": [],
   "source": [
    "#extracting data for F-20\n",
    "Flourine_20_data = pd.read_excel('NLD.xlsx',sheet_name='F-20')\n",
    "\n",
    "NLD_F20 = Flourine_20_data['NLD']"
   ]
  },
  {
   "cell_type": "code",
   "execution_count": 23,
   "metadata": {},
   "outputs": [
    {
     "name": "stdout",
     "output_type": "stream",
     "text": [
      "4.251 -7.5\n"
     ]
    }
   ],
   "source": [
    "popt_F20, pcov_F20 = curve_fit(const_temp,E,NLD_F20,p0=[4.24,-7.29],bounds=[[1,-7.5],[5,-4]]) #curve fitting\n",
    "print(round(popt_F20[0],3),round(popt_F20[1],3))"
   ]
  },
  {
   "cell_type": "code",
   "execution_count": 24,
   "metadata": {},
   "outputs": [],
   "source": [
    "TempF20_sd_paper = 4.24\n",
    "E0F20_sd_paper = -7.29"
   ]
  },
  {
   "cell_type": "code",
   "execution_count": 25,
   "metadata": {},
   "outputs": [
    {
     "data": {
      "image/png": "[encoded data removed]",
      "text/plain": [
       "<Figure size 432x288 with 1 Axes>"
      ]
     },
     "metadata": {
      "needs_background": "light"
     },
     "output_type": "display_data"
    }
   ],
   "source": [
    "plt.scatter(E,NLD_F20,color = 'red',label='Experimental data')\n",
    "plt.plot(E,const_temp(E,*popt_F20),'b',label= 'Rathi fit (T = 4.251 MeV and $E_0 = -7.5$ MeV)')\n",
    "plt.plot(E,const_temp(E,TempF20_sd_paper,E0F20_sd_paper),'g',label= 'Karampagia fit')\n",
    "plt.xlabel('E (MeV)')\n",
    "plt.ylabel(r'$\\rho$ (MeV$^{-1}$)')\n",
    "plt.legend(loc = 'best')\n",
    "plt.show()"
   ]
  },
  {
   "cell_type": "markdown",
   "metadata": {},
   "source": [
    "## Testing the goodness of fits:"
   ]
  },
  {
   "cell_type": "markdown",
   "metadata": {},
   "source": [
    "### Comparing the fits"
   ]
  },
  {
   "cell_type": "code",
   "execution_count": 26,
   "metadata": {},
   "outputs": [],
   "source": [
    "Rathi_fit_F20 = const_temp(E,popt_F20[0],popt_F20[1])\n",
    "Karampagia_fit_F20 = const_temp(E,TempF20_sd_paper,E0F20_sd_paper)\n"
   ]
  },
  {
   "cell_type": "markdown",
   "metadata": {},
   "source": [
    "### Chi-squared test:"
   ]
  },
  {
   "cell_type": "code",
   "execution_count": 27,
   "metadata": {},
   "outputs": [
    {
     "data": {
      "text/plain": [
       "0.061077983602833945"
      ]
     },
     "execution_count": 27,
     "metadata": {},
     "output_type": "execute_result"
    }
   ],
   "source": [
    "red_chi_square(Rathi_fit_F20, NLD_F20, 8)"
   ]
  },
  {
   "cell_type": "code",
   "execution_count": 28,
   "metadata": {},
   "outputs": [
    {
     "data": {
      "text/plain": [
       "0.07523456567402809"
      ]
     },
     "execution_count": 28,
     "metadata": {},
     "output_type": "execute_result"
    }
   ],
   "source": [
    "red_chi_square(Karampagia_fit_F20, NLD_F20, 8)"
   ]
  },
  {
   "cell_type": "markdown",
   "metadata": {},
   "source": [
    "## Fitting for Flourine-21"
   ]
  },
  {
   "cell_type": "code",
   "execution_count": 29,
   "metadata": {},
   "outputs": [],
   "source": [
    "#extracting data for F-21\n",
    "Flourine_21_data = pd.read_excel('NLD.xlsx',sheet_name='F-21')\n",
    "\n",
    "NLD_F21 = Flourine_21_data['NLD']"
   ]
  },
  {
   "cell_type": "code",
   "execution_count": 30,
   "metadata": {},
   "outputs": [
    {
     "name": "stdout",
     "output_type": "stream",
     "text": [
      "[ 4.         -6.35239126]\n"
     ]
    }
   ],
   "source": [
    "popt_F21, pcov_F21 = curve_fit(const_temp,E,NLD_F20,p0=[3.91,-6.37],bounds=[[0,-7],[4,-3]]) #curve fitting\n",
    "print(popt_F21)"
   ]
  },
  {
   "cell_type": "code",
   "execution_count": 31,
   "metadata": {},
   "outputs": [],
   "source": [
    "TempF21_sd_paper = 3.91\n",
    "E0F21_sd_paper = -6.37"
   ]
  },
  {
   "cell_type": "code",
   "execution_count": 32,
   "metadata": {},
   "outputs": [
    {
     "data": {
      "image/png": "[encoded data removed]",
      "text/plain": [
       "<Figure size 432x288 with 1 Axes>"
      ]
     },
     "metadata": {
      "needs_background": "light"
     },
     "output_type": "display_data"
    }
   ],
   "source": [
    "plt.scatter(E,NLD_F21,color = 'red',label = 'Experimental data')\n",
    "plt.plot(E,const_temp(E,*popt_F21),'b',label = 'Fitted curve (T = 4 MeV and $E_0 = -6.352$ MeV)')\n",
    "plt.plot(E,const_temp(E,TempF21_sd_paper,E0F21_sd_paper),'g',label= 'Fitted curve (Karampagia et. al)')\n",
    "plt.xlabel('E (MeV)')\n",
    "plt.ylabel(r'$\\rho$ (MeV$^{-1}$)')\n",
    "plt.legend(loc = 'best')\n",
    "plt.show()"
   ]
  },
  {
   "cell_type": "markdown",
   "metadata": {},
   "source": [
    "## Testing the goodness of fits:"
   ]
  },
  {
   "cell_type": "markdown",
   "metadata": {},
   "source": [
    "### Comparing the fits:"
   ]
  },
  {
   "cell_type": "code",
   "execution_count": 33,
   "metadata": {},
   "outputs": [],
   "source": [
    "Rathi_fit_F21 = const_temp(E,popt_F21[0],popt_F21[1])\n",
    "Karampagia_fit_F21 = const_temp(E,TempF21_sd_paper,E0F21_sd_paper)\n"
   ]
  },
  {
   "cell_type": "markdown",
   "metadata": {},
   "source": [
    "### Comparing to the experimental data:"
   ]
  },
  {
   "cell_type": "code",
   "execution_count": 34,
   "metadata": {},
   "outputs": [
    {
     "data": {
      "text/plain": [
       "0.1060902407940673"
      ]
     },
     "execution_count": 34,
     "metadata": {},
     "output_type": "execute_result"
    }
   ],
   "source": [
    "red_chi_square(Rathi_fit_F21, NLD_F21, 8)"
   ]
  },
  {
   "cell_type": "code",
   "execution_count": 35,
   "metadata": {},
   "outputs": [
    {
     "data": {
      "text/plain": [
       "0.027180199961704336"
      ]
     },
     "execution_count": 35,
     "metadata": {},
     "output_type": "execute_result"
    }
   ],
   "source": [
    "red_chi_square(Karampagia_fit_F21, NLD_F21, 8)"
   ]
  },
  {
   "cell_type": "markdown",
   "metadata": {},
   "source": [
    "## Fitting for Magnesium-24"
   ]
  },
  {
   "cell_type": "code",
   "execution_count": 36,
   "metadata": {},
   "outputs": [],
   "source": [
    "#extracting data for Mg-24\n",
    "Magnesium_24_data = pd.read_excel('NLD.xlsx',sheet_name='Mg-24')\n",
    "\n",
    "NLD_Mg24 = Magnesium_24_data['NLD']"
   ]
  },
  {
   "cell_type": "code",
   "execution_count": 37,
   "metadata": {},
   "outputs": [
    {
     "name": "stdout",
     "output_type": "stream",
     "text": [
      "[2.70650154 1.25      ]\n"
     ]
    }
   ],
   "source": [
    "popt_Mg24, pcov_Mg24 = curve_fit(const_temp,E,NLD_Mg24, p0=[2.64,1.49],bounds=[[0,1.25],[3,4]]) #curve fitting\n",
    "print(popt_Mg24)"
   ]
  },
  {
   "cell_type": "code",
   "execution_count": 38,
   "metadata": {},
   "outputs": [
    {
     "data": {
      "text/plain": [
       "array([[ 0.0040563 , -0.01505977],\n",
       "       [-0.01505977,  0.05684719]])"
      ]
     },
     "execution_count": 38,
     "metadata": {},
     "output_type": "execute_result"
    }
   ],
   "source": [
    "pcov_Mg24"
   ]
  },
  {
   "cell_type": "code",
   "execution_count": 39,
   "metadata": {},
   "outputs": [],
   "source": [
    "TempMg24_sd_paper = 2.64\n",
    "E0Mg24_sd_paper = 1.49"
   ]
  },
  {
   "cell_type": "code",
   "execution_count": 40,
   "metadata": {},
   "outputs": [
    {
     "data": {
      "image/png": "[encoded data removed]",
      "text/plain": [
       "<Figure size 432x288 with 1 Axes>"
      ]
     },
     "metadata": {
      "needs_background": "light"
     },
     "output_type": "display_data"
    }
   ],
   "source": [
    "plt.scatter(E,NLD_Mg24,color = 'red',label='Experimental data')\n",
    "plt.plot(E,const_temp(E,*popt_Mg24),'b',label = 'Fitted curve (T = 2.783 MeV and $E_0 = 0.962$ MeV)')\n",
    "plt.plot(E,const_temp(E,TempMg24_sd_paper,E0Mg24_sd_paper),'g',label= 'Fitted curve (Karampagia et. al)')\n",
    "plt.xlabel('E (MeV)')\n",
    "plt.ylabel(r'$\\rho$ (MeV$^{-1}$)')\n",
    "plt.legend(loc = 'best')\n",
    "plt.show()"
   ]
  },
  {
   "cell_type": "markdown",
   "metadata": {},
   "source": [
    "## Testing the goodness of fits:"
   ]
  },
  {
   "cell_type": "code",
   "execution_count": 41,
   "metadata": {},
   "outputs": [],
   "source": [
    "Rathi_fit_Mg24 = const_temp(E,popt_Mg24[0],popt_Mg24[1])\n",
    "Karampagia_fit_Mg24 = const_temp(E,TempMg24_sd_paper,E0Mg24_sd_paper)\n"
   ]
  },
  {
   "cell_type": "code",
   "execution_count": 42,
   "metadata": {},
   "outputs": [
    {
     "data": {
      "text/plain": [
       "0.009380023891811064"
      ]
     },
     "execution_count": 42,
     "metadata": {},
     "output_type": "execute_result"
    }
   ],
   "source": [
    "red_chi_square(Rathi_fit_Mg24, NLD_Mg24, 8)"
   ]
  },
  {
   "cell_type": "code",
   "execution_count": 43,
   "metadata": {},
   "outputs": [
    {
     "data": {
      "text/plain": [
       "0.007893036057052724"
      ]
     },
     "execution_count": 43,
     "metadata": {},
     "output_type": "execute_result"
    }
   ],
   "source": [
    "red_chi_square(Karampagia_fit_Mg24, NLD_Mg24, 8)"
   ]
  },
  {
   "cell_type": "markdown",
   "metadata": {},
   "source": [
    "## The pcov matrix from 'curve_fit' function:\n",
    "\n",
    "pcov is an nxn matrix (in this case, 2x2 since we are fitting two parameters). The diagonal elements give the variance of the fitted parameters while the off-diagonal ones give the covariance between the two parameters (T and E_0 in this case)"
   ]
  },
  {
   "cell_type": "code",
   "execution_count": 44,
   "metadata": {},
   "outputs": [
    {
     "data": {
      "text/plain": [
       "(array([[ 0.23819729, -0.92694608],\n",
       "        [-0.92694608,  3.65537242]]),\n",
       " array([[ 0.07072342, -0.32736723],\n",
       "        [-0.32736723,  1.52908008]]),\n",
       " array([[ 0.09112808, -0.41870471],\n",
       "        [-0.41870471,  1.9422391 ]]),\n",
       " array([[ 0.0040563 , -0.01505977],\n",
       "        [-0.01505977,  0.05684719]]))"
      ]
     },
     "execution_count": 44,
     "metadata": {},
     "output_type": "execute_result"
    }
   ],
   "source": [
    "pcov_F19, pcov_F20, pcov_F21, pcov_Mg24"
   ]
  },
  {
   "cell_type": "code",
   "execution_count": 45,
   "metadata": {},
   "outputs": [
    {
     "data": {
      "image/png": "[encoded data removed]",
      "text/plain": [
       "<Figure size 720x720 with 8 Axes>"
      ]
     },
     "metadata": {
      "needs_background": "light"
     },
     "output_type": "display_data"
    }
   ],
   "source": [
    "fig, ((ax1,ax2),(ax3,ax4)) = plt.subplots(2,2,figsize=(10,10))\n",
    "\n",
    "\n",
    "e1 = ax1.imshow(np.log(np.abs(pcov_F19)),cmap = 'inferno')\n",
    "e2 = ax2.imshow(np.log(np.abs(pcov_F20)),cmap = 'inferno')\n",
    "e3 = ax3.imshow(np.log(np.abs(pcov_F21)),cmap = 'inferno')\n",
    "e4 = ax4.imshow(np.log(np.abs(pcov_Mg24)),cmap = 'inferno')\n",
    "\n",
    "fig.colorbar(e1,ax=ax1)\n",
    "fig.colorbar(e2, ax=ax2)\n",
    "fig.colorbar(e3, ax=ax3)\n",
    "fig.colorbar(e4, ax=ax4)\n",
    "plt.show()"
   ]
  },
  {
   "cell_type": "markdown",
   "metadata": {},
   "source": [
    "# Calculations from TALYS\n",
    "\n",
    "Source: https://www-nds.iaea.org/talys/tutorials/talys_v1.96.pdf\n",
    "\n",
    "The TALYS manual has discussed different nuclear models and the constant temperature model (Section 8.1.4, pg. 124) is one among them. Based on observations and fitting, the TALYS manual provides formulae for the temperature parameter.\n",
    "\n",
    "It briefly mentions two under the CTM model: the effective model and the collective model. It finally provides the formulae for T.\n",
    "\n",
    "For the effective model under CTM:\n",
    "\n",
    "$ T = -0.22 + \\frac{9.4}{\\sqrt{A(1+\\gamma \\delta W)}} $\n",
    "\n",
    "For the collective model under CTM:\n",
    "\n",
    "$ T = -0.25 + \\frac{10.2}{\\sqrt{A(1+\\gamma \\delta W)}} $\n",
    "\n",
    "where, $\\gamma = \\frac{\\gamma_1}{A^{1/3}} $\n",
    "\n",
    "Here, the values of $\\gamma_1$ are taken from Table 8.1 in the manual (pg. 120) and $\\delta W$ is the difference in mass of of the nucleus measured experimentally and the mass of the nucleus according to the liquid drop model (LDM).\n",
    "\n",
    "$ \\delta W = M_{exp} - M_{LDM} $\n",
    "\n",
    "The data for $M_{exp}$ has been taken from AME2020 experimental mass compilation (http://cms.iopscience.org/085e4ab8-0d63-11e7-9a47-19ee90157113/030003_Table1.pdf?guest=true) and the $ M_{LDM}$ has been taken from Myers and Swiatecki (1966).\n",
    "\n",
    "$ M_{LDM} = M_n N + M_H Z + E_{vol} + E_{sur} + E_{Coul} + \\delta $\n",
    "\n",
    "Here, $ \\delta = -\\frac{11}{\\sqrt{A}} $ (even-even); $\\delta = 0 $ (odd); $\\delta = \\frac{11}{\\sqrt{A}} (odd-odd). $\n",
    "\n",
    "NOTE: Refer to the TALYS manual (pg. 120)"
   ]
  },
  {
   "cell_type": "markdown",
   "metadata": {},
   "source": [
    "## Calculation of backshift energy parameter from TALYS:\n",
    "\n",
    "In the TALYS manual, the backshift energy parameter is given by:\n",
    "\n",
    "$ \\Delta_{CTM} = \\chi*\\frac{12}{\\sqrt{N+Z}} $\n",
    "\n",
    "with $ \\chi = 2 $ for even-even\n",
    "\n",
    "$ \\chi = 1 $ for odd-even\n",
    "\n",
    "$ \\chi = 0 $ for odd-odd\n",
    "\n",
    "The obtained values of temperature and backshift energy can be used as initial guesses to the parameters while fitting the functions."
   ]
  },
  {
   "cell_type": "code",
   "execution_count": 46,
   "metadata": {},
   "outputs": [],
   "source": [
    "def mass_liquid_drop_model(N,Z):\n",
    "    \n",
    "    '''Function to calculate the mass excess of an element under the liquid drop model.\n",
    "    This has been borrowed from the paper by Myers and Swiatecki (1966).\n",
    "    INPUTS: The number of neutrons (N) and protons (Z)\n",
    "    RETURNS: the mass excess of the element under assuming a liquid drop model.'''\n",
    "    \n",
    "    # Defining constants\n",
    "    M_n = 8.07144 # in MeV\n",
    "    M_H = 7.28899 # in MeV\n",
    "    \n",
    "    a1 = 15.677\n",
    "    a2 = 18.56\n",
    "    \n",
    "    kappa = 1.79\n",
    "    \n",
    "    c1 = a1*(1-kappa*(N-Z)**2/(N+Z)**2)\n",
    "    c2 = a2*(1-kappa*(N-Z)**2/(N+Z)**2)\n",
    "    c3 = 0.717\n",
    "    c4 = 1.21129\n",
    "    \n",
    "    # Deciding the value of delta (in LDM) depending on the pairing.\n",
    "    if Z%2 == 0 and N%2 == 0:\n",
    "        delta = -11/(Z+N)**0.5\n",
    "        #print('Z and N are even')\n",
    "        \n",
    "    elif (Z%2 !=0 and N%2 == 0) or (Z%2 == 0 and N%2 !=0):\n",
    "        delta = 0\n",
    "        #print('Either Z or N is odd')\n",
    "    \n",
    "    else:\n",
    "        delta = 11/(Z+N)**0.5\n",
    "        #print('Both are odd')\n",
    "    \n",
    "    # calculation of volume, Coulomb and surface energies.\n",
    "    E_vol = -c1*(Z+N)\n",
    "    E_Coul = c3*Z**2/(Z+N)**(1./3.) - c4*Z**2/(Z+N)\n",
    "    E_sur = c2*(Z+N)**(2./3.)\n",
    "    \n",
    "    return M_n*N + M_H*Z + E_vol + E_sur + E_Coul + delta # the mass excess under LDM.\n"
   ]
  },
  {
   "cell_type": "code",
   "execution_count": 47,
   "metadata": {},
   "outputs": [],
   "source": [
    "def temp_TALYS(N,Z,mass_exp):\n",
    "    \n",
    "    '''Function that calculates the temperature parameter for effective and collective dofs.\n",
    "    (Theory behind this can be found in the TALYS manual).\n",
    "    \n",
    "    INPUTS: # of neutrons (N) and # of protons (Z)\n",
    "    RETURN: the temperature parameters for effective and collective dofs'''\n",
    "    \n",
    "    mass_LDM = mass_liquid_drop_model(N,Z)\n",
    "    delta_W = mass_exp - mass_LDM\n",
    "    \n",
    "    gamma_eff = 0.433090/(N+Z)**(1./3.)\n",
    "    gamma_coll = 0.473625/(N+Z)**(1./3.)\n",
    "    \n",
    "    T_eff = -0.22 + 9.4/((N+Z)*(1+gamma_eff*delta_W))**0.5\n",
    "    T_coll = -0.25 + 10.2/((N+Z)*(1+gamma_coll*delta_W))**0.5\n",
    "    \n",
    "    return T_eff,T_coll"
   ]
  },
  {
   "cell_type": "code",
   "execution_count": 52,
   "metadata": {},
   "outputs": [],
   "source": [
    "def backshift_energy(N,Z):\n",
    "    \n",
    "    if Z%2 == 0 and N%2 == 0:\n",
    "        chi = 2.0\n",
    "        #print('Z and N are even')\n",
    "        \n",
    "    elif (Z%2 !=0 and N%2 == 0) or (Z%2 == 0 and N%2 !=0):\n",
    "        chi = 1.0\n",
    "        #print('Either Z or N is odd')\n",
    "    \n",
    "    else:\n",
    "        chi = 0.0\n",
    "        #print('Both are odd')\n",
    "    \n",
    "    return chi*12.0/np.sqrt(N+Z)"
   ]
  },
  {
   "cell_type": "markdown",
   "metadata": {},
   "source": [
    "### Flourine-19"
   ]
  },
  {
   "cell_type": "code",
   "execution_count": 48,
   "metadata": {},
   "outputs": [
    {
     "name": "stdout",
     "output_type": "stream",
     "text": [
      "The effective T value from TALYS is 1.856 MeV\n",
      "The collective DOF T value from TALYS is 1.996 MeV\n",
      "The T value from my fit is 4.0 MeV\n",
      "The T value from Karampagia et. al, is 3.97 MeV\n"
     ]
    }
   ],
   "source": [
    "T_talys_F19 = temp_TALYS(10,9,-1.487)\n",
    "print(\"The effective T value from TALYS is {} MeV\".format(round(T_talys_F19[0],3)))\n",
    "print(\"The collective DOF T value from TALYS is {} MeV\".format(round(T_talys_F19[1],3)))\n",
    "print(\"The T value from my fit is {} MeV\".format(round(popt_F19[0],3)))\n",
    "print(\"The T value from Karampagia et. al, is {} MeV\".format(TempF19_sd_paper))"
   ]
  },
  {
   "cell_type": "markdown",
   "metadata": {},
   "source": [
    "### Flourine-20"
   ]
  },
  {
   "cell_type": "code",
   "execution_count": 49,
   "metadata": {},
   "outputs": [
    {
     "name": "stdout",
     "output_type": "stream",
     "text": [
      "The effective DOF T value from TALYS is 1.838 MeV\n",
      "The collective DOF T value from TALYS is 1.979 MeV\n",
      "The T value from my fit is 4.251 MeV\n",
      "The T value from Karampagia et. al, is 4.24 MeV\n"
     ]
    }
   ],
   "source": [
    "T_talys_F20 = temp_TALYS(11,9,-17.463*10**(-3))\n",
    "print(\"The effective DOF T value from TALYS is {} MeV\".format(round(T_talys_F20[0],3)))\n",
    "print(\"The collective DOF T value from TALYS is {} MeV\".format(round(T_talys_F20[1],3)))\n",
    "print(\"The T value from my fit is {} MeV\".format(round(popt_F20[0],3)))\n",
    "print(\"The T value from Karampagia et. al, is {} MeV\".format(TempF20_sd_paper))"
   ]
  },
  {
   "cell_type": "markdown",
   "metadata": {},
   "source": [
    "### Flourine-21"
   ]
  },
  {
   "cell_type": "code",
   "execution_count": 50,
   "metadata": {},
   "outputs": [
    {
     "name": "stdout",
     "output_type": "stream",
     "text": [
      "The effective DOF T value from TALYS is 1.549 MeV\n",
      "The collective DOF T value from TALYS is 1.647 MeV\n",
      "The T value from my fit is 4.0 MeV\n",
      "The T value from Karampagia et. al, is 3.91 MeV\n"
     ]
    }
   ],
   "source": [
    "T_talys_F21 = temp_TALYS(12,9,-47.6*10**(-3))\n",
    "print(\"The effective DOF T value from TALYS is {} MeV\".format(round(T_talys_F21[0],3)))\n",
    "print(\"The collective DOF T value from TALYS is {} MeV\".format(round(T_talys_F21[1],3)))\n",
    "print(\"The T value from my fit is {} MeV\".format(round(popt_F21[0],3)))\n",
    "print(\"The T value from Karampagia et. al, is {} MeV\".format(TempF21_sd_paper))"
   ]
  },
  {
   "cell_type": "markdown",
   "metadata": {},
   "source": [
    "### Magnesium-24"
   ]
  },
  {
   "cell_type": "code",
   "execution_count": 51,
   "metadata": {},
   "outputs": [
    {
     "name": "stdout",
     "output_type": "stream",
     "text": [
      "The effective DOF T value from TALYS is 2.274 MeV\n",
      "The collective DOF T value from TALYS is 2.548 MeV\n",
      "The T value from my fit is 2.707 MeV\n",
      "The T value from Karampagia et. al, is 2.64 MeV\n"
     ]
    }
   ],
   "source": [
    "T_talys_Mg24 = temp_TALYS(12,12,-13933.578*10**(-3))\n",
    "print(\"The effective DOF T value from TALYS is {} MeV\".format(round(T_talys_Mg24[0],3)))\n",
    "print(\"The collective DOF T value from TALYS is {} MeV\".format(round(T_talys_Mg24[1],3)))\n",
    "print(\"The T value from my fit is {} MeV\".format(round(popt_Mg24[0],3)))\n",
    "print(\"The T value from Karampagia et. al, is {} MeV\".format(TempMg24_sd_paper))"
   ]
  },
  {
   "cell_type": "code",
   "execution_count": 55,
   "metadata": {},
   "outputs": [],
   "source": [
    "E0_F19 = backshift_energy(10,9)"
   ]
  },
  {
   "cell_type": "code",
   "execution_count": 58,
   "metadata": {},
   "outputs": [
    {
     "data": {
      "image/png": "[encoded data removed]",
      "text/plain": [
       "<Figure size 432x288 with 1 Axes>"
      ]
     },
     "metadata": {
      "needs_background": "light"
     },
     "output_type": "display_data"
    }
   ],
   "source": [
    "plt.scatter(E,NLD_F19,color = 'red',label='Experimental data')\n",
    "plt.plot(E, const_temp(E,T_talys_F19[0],E0_F19),'b',label = 'TALYS Effective DOF')\n",
    "plt.plot(E, const_temp(E,T_talys_F19[1],E0_F19),'g', label = 'TALYS Collective DOF')\n",
    "\n",
    "plt.legend(loc='best')\n",
    "plt.title('Fits for F-19 from TALYS parameters')\n",
    "\n",
    "plt.xlabel('E (MeV)')\n",
    "plt.ylabel(r'$\\rho(E)$')\n",
    "\n",
    "plt.show()"
   ]
  },
  {
   "cell_type": "code",
   "execution_count": null,
   "metadata": {},
   "outputs": [],
   "source": []
  }
 ],
 "metadata": {
  "kernelspec": {
   "display_name": "Python 3 (ipykernel)",
   "language": "python",
   "name": "python3"
  },
  "language_info": {
   "codemirror_mode": {
    "name": "ipython",
    "version": 3
   },
   "file_extension": ".py",
   "mimetype": "text/x-python",
   "name": "python",
   "nbconvert_exporter": "python",
   "pygments_lexer": "ipython3",
   "version": "3.7.3"
  }
 },
 "nbformat": 4,
 "nbformat_minor": 2
}
